{
 "cells": [
  {
   "cell_type": "markdown",
   "metadata": {},
   "source": [
    "# Class -- 13 Numpy"
   ]
  },
  {
   "cell_type": "markdown",
   "metadata": {},
   "source": [
    "# NumPy is the fundamental package for scientific comuting in python.It is a Python library that provides a multidemenional array obeject,various derived objects(such as masked arrays and matrices), and an assortment of routines for fast operations on arrays,includibg mathemaatical,logical,shape manipulation,sortig,selecting ,I/O ,discreate Fourier transforms,basic linear algebra,basic staticstical operations,random simulation and much more."
   ]
  },
  {
   "cell_type": "markdown",
   "metadata": {},
   "source": [
    "# Ndarray is the n-dimesional array object defined in the onject defibed in the numpy which stores the collection of the similar type of elements.In the other words,we can define a ndarrry as the collection of the data type (dtype) obects.\n",
    "\n",
    "# The ndarray object can be accesssed by using the 0 based indexing.Ecah element of the array obejct contains the same size in the memory."
   ]
  },
  {
   "cell_type": "code",
   "execution_count": 8,
   "metadata": {},
   "outputs": [
    {
     "name": "stdout",
     "output_type": "stream",
     "text": [
      "['1' '2' '0.8' '3']\n",
      "<class 'numpy.ndarray'>\n"
     ]
    }
   ],
   "source": [
    "import numpy as np\n",
    "a = np.array([1,'2',0.8,3])\n",
    "print(a)\n",
    "print(type(a))\n",
    "# String,Float,Integer --- \"Upcasting\""
   ]
  },
  {
   "cell_type": "code",
   "execution_count": 9,
   "metadata": {},
   "outputs": [
    {
     "name": "stdout",
     "output_type": "stream",
     "text": [
      "[[1 2]\n",
      " [3 4]]\n"
     ]
    }
   ],
   "source": [
    "a = np.array([[1,2],[3,4]])\n",
    "print(a)"
   ]
  },
  {
   "cell_type": "code",
   "execution_count": 10,
   "metadata": {},
   "outputs": [
    {
     "name": "stdout",
     "output_type": "stream",
     "text": [
      "[[1 2 3 4]]\n"
     ]
    }
   ],
   "source": [
    "a = np.array([1,2,3,4] ,ndmin = 2)\n",
    "print(a)"
   ]
  },
  {
   "cell_type": "code",
   "execution_count": 11,
   "metadata": {},
   "outputs": [
    {
     "name": "stdout",
     "output_type": "stream",
     "text": [
      "[1. 2. 3. 4.]\n"
     ]
    }
   ],
   "source": [
    "a = np.array([1,2,3,4] ,dtype = float)\n",
    "print(a)"
   ]
  },
  {
   "cell_type": "markdown",
   "metadata": {},
   "source": [
    "# Class - 14"
   ]
  },
  {
   "cell_type": "code",
   "execution_count": 12,
   "metadata": {},
   "outputs": [
    {
     "name": "stdout",
     "output_type": "stream",
     "text": [
      "(2, 3)\n",
      "[[1 2]\n",
      " [3 4]\n",
      " [5 6]]\n",
      "[[1 2]\n",
      " [3 4]\n",
      " [5 6]]\n"
     ]
    }
   ],
   "source": [
    "# ndarray.shape --- This attribute return a tuple consisting of array dimenions.It can also be used to resize the array.\n",
    "import numpy as np\n",
    "\n",
    "a = np.array([[1,2,3],[4,5,6]])\n",
    "print(a.shape)\n",
    "\n",
    "# Attribute\n",
    "a.shape = (3,2)\n",
    "print(a)\n",
    "\n",
    "# Function\n",
    "b = a.reshape(3,2)\n",
    "print(b)"
   ]
  },
  {
   "cell_type": "code",
   "execution_count": 13,
   "metadata": {},
   "outputs": [
    {
     "name": "stdout",
     "output_type": "stream",
     "text": [
      "[[0 0 0]\n",
      " [0 0 0]]\n",
      "[1 1 1 1 1]\n",
      "1\n",
      "5\n"
     ]
    }
   ],
   "source": [
    "# It returns the array with the all zeros\n",
    "\n",
    "x = np.zeros((2,3),dtype=int) # By default float\n",
    "print(x)\n",
    "\n",
    "y = np.ones(5,dtype=int)\n",
    "print(y)\n",
    "print(y.ndim)\n",
    "\n",
    "print(y.size)"
   ]
  },
  {
   "cell_type": "code",
   "execution_count": 14,
   "metadata": {},
   "outputs": [
    {
     "name": "stdout",
     "output_type": "stream",
     "text": [
      "[[2.5 2.5 2.5]\n",
      " [2.5 2.5 2.5]]\n"
     ]
    }
   ],
   "source": [
    "x = 2.5*(np.ones((2,3)))\n",
    "print(x)"
   ]
  },
  {
   "cell_type": "code",
   "execution_count": 15,
   "metadata": {},
   "outputs": [
    {
     "name": "stdout",
     "output_type": "stream",
     "text": [
      "[[1. 0. 0. 0. 0.]\n",
      " [0. 1. 0. 0. 0.]\n",
      " [0. 0. 1. 0. 0.]\n",
      " [0. 0. 0. 1. 0.]\n",
      " [0. 0. 0. 0. 1.]]\n"
     ]
    }
   ],
   "source": [
    "z = np.eye(5)\n",
    "print(z)"
   ]
  },
  {
   "cell_type": "code",
   "execution_count": 16,
   "metadata": {},
   "outputs": [
    {
     "name": "stdout",
     "output_type": "stream",
     "text": [
      "[[1 2 3]\n",
      " [4 5 6]\n",
      " [7 8 9]]\n",
      "[1 5 9]\n",
      "[[4 0 0 0]\n",
      " [0 2 0 0]\n",
      " [0 0 9 0]\n",
      " [0 0 0 6]]\n"
     ]
    }
   ],
   "source": [
    "c = np.array([[1,2,3],[4,5,6],[7,8,9]])\n",
    "print(c)\n",
    "print(np.diag(c))\n",
    "\n",
    "d = np.diag([4,2,9,6])\n",
    "print(d)"
   ]
  },
  {
   "cell_type": "code",
   "execution_count": 17,
   "metadata": {},
   "outputs": [
    {
     "name": "stdout",
     "output_type": "stream",
     "text": [
      "2x2 Matrix:\n",
      " [[1 2]\n",
      " [3 4]]\n",
      "3x3 Matrix:\n",
      " [[1 2 5]\n",
      " [3 4 6]\n",
      " [7 8 9]]\n"
     ]
    }
   ],
   "source": [
    "matrix1 = np.array([[1,2],[3,4]])\n",
    "print(\"2x2 Matrix:\\n\",matrix1)\n",
    "\n",
    "matrix2 = np.array([[1,2,5],[3,4,6],[7,8,9]])\n",
    "print(\"3x3 Matrix:\\n\",matrix2)"
   ]
  },
  {
   "cell_type": "code",
   "execution_count": 18,
   "metadata": {},
   "outputs": [
    {
     "name": "stdout",
     "output_type": "stream",
     "text": [
      "[[ 12  24  36]\n",
      " [ 48  60  72]\n",
      " [ 84  96 108]]\n"
     ]
    }
   ],
   "source": [
    "matrix1 = np.array([[1,2,3],[4,5,6],[7,8,9]])\n",
    "matrix2 = np.array([[11,22,33],[44,55,66],[77,88,99]])\n",
    "matrix3 = matrix1 + matrix2\n",
    "print(matrix3)"
   ]
  },
  {
   "cell_type": "code",
   "execution_count": 19,
   "metadata": {},
   "outputs": [
    {
     "name": "stdout",
     "output_type": "stream",
     "text": [
      "[[330 396]\n",
      " [726 891]]\n"
     ]
    }
   ],
   "source": [
    "matrix1 = np.array([[1,2,3],[4,5,6]])\n",
    "matrix2 = np.array([[11,22],[44,55],[77,88]])\n",
    "matrix3 = np.dot(matrix1,matrix2)\n",
    "print(matrix3)"
   ]
  },
  {
   "cell_type": "code",
   "execution_count": 20,
   "metadata": {},
   "outputs": [
    {
     "name": "stdout",
     "output_type": "stream",
     "text": [
      "[[1 4]\n",
      " [2 5]\n",
      " [3 6]]\n"
     ]
    }
   ],
   "source": [
    "# Transpose fucntion\n",
    "# Syntax -- np.transpose()\n",
    "\n",
    "matrix1 = np.array([[1,2,3],[4,5,6]])\n",
    "matrix2 = np.transpose(matrix1)\n",
    "print(matrix2)"
   ]
  },
  {
   "cell_type": "code",
   "execution_count": 21,
   "metadata": {},
   "outputs": [
    {
     "name": "stdout",
     "output_type": "stream",
     "text": [
      "[ 0  1  2  3  4  5  6  7  8  9 10 11 12 13 14 15 16 17 18 19 20 21 22 23]\n",
      "[[10 12 14]\n",
      " [16 18 20]]\n"
     ]
    }
   ],
   "source": [
    "# numpy--- np.arange\n",
    "a = np.arange(24)\n",
    "c = a.ndim\n",
    "print(a)\n",
    "\n",
    "\n",
    "y = (np.arange(10,22,2)).reshape(2,3)\n",
    "print(y)"
   ]
  },
  {
   "cell_type": "code",
   "execution_count": 22,
   "metadata": {},
   "outputs": [],
   "source": [
    "# Comaparison between LIST and ARRAY\n",
    "\n",
    "# 3 Benifits of array:-\n",
    "# Take less memory\n",
    "# Fast\n",
    "# Convininent"
   ]
  },
  {
   "cell_type": "code",
   "execution_count": 23,
   "metadata": {},
   "outputs": [
    {
     "data": {
      "text/plain": [
       "28"
      ]
     },
     "execution_count": 23,
     "metadata": {},
     "output_type": "execute_result"
    }
   ],
   "source": [
    "import sys\n",
    "import time\n",
    "\n",
    "sys.getsizeof(100)"
   ]
  },
  {
   "cell_type": "code",
   "execution_count": 24,
   "metadata": {},
   "outputs": [
    {
     "name": "stdout",
     "output_type": "stream",
     "text": [
      "5600000\n"
     ]
    }
   ],
   "source": [
    "l = range(200000)\n",
    "print(sys.getsizeof(2)*len(l))"
   ]
  },
  {
   "cell_type": "code",
   "execution_count": 25,
   "metadata": {},
   "outputs": [
    {
     "name": "stdout",
     "output_type": "stream",
     "text": [
      "4\n",
      "\n",
      "800000\n"
     ]
    }
   ],
   "source": [
    "a = np.arange(200000)\n",
    "print(a.itemsize)\n",
    "print()\n",
    "\n",
    "print(a.itemsize*len(a))"
   ]
  },
  {
   "cell_type": "code",
   "execution_count": 26,
   "metadata": {},
   "outputs": [
    {
     "name": "stdout",
     "output_type": "stream",
     "text": [
      "time taken: 153.7320613861084\n"
     ]
    }
   ],
   "source": [
    "a1 = range(1000000)\n",
    "b1 = range(1000000)\n",
    "start = time.time()\n",
    "c1 = [(x+y) for x,y in zip(a1,b1)]\n",
    "print(\"time taken:\",(time.time() - start)*1000)# intial it comes in nano second so t convert it into micro multiply with 1000."
   ]
  },
  {
   "cell_type": "code",
   "execution_count": 40,
   "metadata": {},
   "outputs": [
    {
     "name": "stdout",
     "output_type": "stream",
     "text": [
      "time taken by array : 3.989696502685547\n"
     ]
    }
   ],
   "source": [
    "a1 = np.arange(1000000)\n",
    "a2 = np.arange(1000000)\n",
    "start = time.time()\n",
    "c2 = a1+a2\n",
    "print(\"time taken by array :\",(time.time()- start)*1000)"
   ]
  },
  {
   "cell_type": "code",
   "execution_count": 28,
   "metadata": {},
   "outputs": [
    {
     "data": {
      "text/plain": [
       "array([   0,    1,    4,    9,   16,   25,   36,   49,   64,   81,  100,\n",
       "        121,  144,  169,  196,  225,  256,  289,  324,  361,  400,  441,\n",
       "        484,  529,  576,  625,  676,  729,  784,  841,  900,  961, 1024,\n",
       "       1089, 1156, 1225, 1296, 1369, 1444, 1521, 1600, 1681, 1764, 1849,\n",
       "       1936, 2025, 2116, 2209, 2304, 2401, 2500, 2601, 2704, 2809, 2916,\n",
       "       3025, 3136, 3249, 3364, 3481, 3600, 3721, 3844, 3969, 4096, 4225,\n",
       "       4356, 4489, 4624, 4761, 4900, 5041, 5184, 5329, 5476, 5625, 5776,\n",
       "       5929, 6084, 6241, 6400, 6561, 6724, 6889, 7056, 7225, 7396, 7569,\n",
       "       7744, 7921, 8100, 8281, 8464, 8649, 8836, 9025, 9216, 9409, 9604,\n",
       "       9801])"
      ]
     },
     "execution_count": 28,
     "metadata": {},
     "output_type": "execute_result"
    }
   ],
   "source": [
    "n1 = np.arange(100)\n",
    "n2 = np.arange(100)\n",
    "\n",
    "n1 * n2"
   ]
  },
  {
   "cell_type": "code",
   "execution_count": 29,
   "metadata": {},
   "outputs": [
    {
     "name": "stdout",
     "output_type": "stream",
     "text": [
      "[1, 2, 3, 4]\n"
     ]
    },
    {
     "data": {
      "text/plain": [
       "[1, 2, 100, 4]"
      ]
     },
     "execution_count": 29,
     "metadata": {},
     "output_type": "execute_result"
    }
   ],
   "source": [
    "# Shallow and Deep Copy\n",
    "\n",
    "l = [1,2,3,4]\n",
    "l1 = l\n",
    "print(l1)\n",
    "l1[2] = 100\n",
    "\n",
    "l1 "
   ]
  },
  {
   "cell_type": "code",
   "execution_count": 30,
   "metadata": {},
   "outputs": [
    {
     "data": {
      "text/plain": [
       "[1, 2, 100, 4]"
      ]
     },
     "execution_count": 30,
     "metadata": {},
     "output_type": "execute_result"
    }
   ],
   "source": [
    "l"
   ]
  },
  {
   "cell_type": "code",
   "execution_count": 31,
   "metadata": {},
   "outputs": [
    {
     "data": {
      "text/plain": [
       "[1, 2, 100, 4]"
      ]
     },
     "execution_count": 31,
     "metadata": {},
     "output_type": "execute_result"
    }
   ],
   "source": [
    "l1"
   ]
  },
  {
   "cell_type": "code",
   "execution_count": 32,
   "metadata": {},
   "outputs": [
    {
     "name": "stdout",
     "output_type": "stream",
     "text": [
      "2429963255360 2429963255360\n"
     ]
    }
   ],
   "source": [
    "print(id(l),id(l1))"
   ]
  },
  {
   "cell_type": "code",
   "execution_count": 33,
   "metadata": {},
   "outputs": [],
   "source": [
    "l2 = l.copy()\n",
    "l2[1] = 100"
   ]
  },
  {
   "cell_type": "code",
   "execution_count": 34,
   "metadata": {},
   "outputs": [
    {
     "data": {
      "text/plain": [
       "[1, 100, 100, 4]"
      ]
     },
     "execution_count": 34,
     "metadata": {},
     "output_type": "execute_result"
    }
   ],
   "source": [
    "l2 "
   ]
  },
  {
   "cell_type": "code",
   "execution_count": 35,
   "metadata": {},
   "outputs": [
    {
     "data": {
      "text/plain": [
       "[1, 2, 100, 4]"
      ]
     },
     "execution_count": 35,
     "metadata": {},
     "output_type": "execute_result"
    }
   ],
   "source": [
    "l"
   ]
  },
  {
   "cell_type": "code",
   "execution_count": 36,
   "metadata": {},
   "outputs": [
    {
     "name": "stdout",
     "output_type": "stream",
     "text": [
      "2429963255360 2429929268480\n"
     ]
    }
   ],
   "source": [
    "print(id(l),id(l2))"
   ]
  },
  {
   "cell_type": "code",
   "execution_count": 7,
   "metadata": {},
   "outputs": [
    {
     "data": {
      "text/plain": [
       "[[1, 2, 3], [4, 5, 6]]"
      ]
     },
     "execution_count": 7,
     "metadata": {},
     "output_type": "execute_result"
    }
   ],
   "source": [
    "l = [[1,2,3],[4,5,6]]\n",
    "l"
   ]
  },
  {
   "cell_type": "code",
   "execution_count": 8,
   "metadata": {},
   "outputs": [
    {
     "data": {
      "text/plain": [
       "[[1, 2, 3], [4, 5, 6]]"
      ]
     },
     "execution_count": 8,
     "metadata": {},
     "output_type": "execute_result"
    }
   ],
   "source": [
    "l2=l.copy()\n",
    "l2"
   ]
  },
  {
   "cell_type": "code",
   "execution_count": 11,
   "metadata": {},
   "outputs": [
    {
     "data": {
      "text/plain": [
       "[[1, 2, 100], [4, 5, 6]]"
      ]
     },
     "execution_count": 11,
     "metadata": {},
     "output_type": "execute_result"
    }
   ],
   "source": [
    "l2[0][2] = 100\n",
    "l2"
   ]
  },
  {
   "cell_type": "code",
   "execution_count": 13,
   "metadata": {},
   "outputs": [
    {
     "data": {
      "text/plain": [
       "[[1, 2, 100], [4, 5, 6]]"
      ]
     },
     "execution_count": 13,
     "metadata": {},
     "output_type": "execute_result"
    }
   ],
   "source": [
    "l"
   ]
  },
  {
   "cell_type": "code",
   "execution_count": 18,
   "metadata": {},
   "outputs": [],
   "source": [
    "import copy\n",
    "l = [[1,2,3],[4,5,6]]\n",
    "l2 = copy.deepcopy(l)\n",
    "l2[0][2] = 100"
   ]
  },
  {
   "cell_type": "code",
   "execution_count": 19,
   "metadata": {},
   "outputs": [
    {
     "data": {
      "text/plain": [
       "[[1, 2, 100], [4, 5, 6]]"
      ]
     },
     "execution_count": 19,
     "metadata": {},
     "output_type": "execute_result"
    }
   ],
   "source": [
    "l2"
   ]
  },
  {
   "cell_type": "code",
   "execution_count": 20,
   "metadata": {},
   "outputs": [
    {
     "data": {
      "text/plain": [
       "[[1, 2, 3], [4, 5, 6]]"
      ]
     },
     "execution_count": 20,
     "metadata": {},
     "output_type": "execute_result"
    }
   ],
   "source": [
    "l"
   ]
  },
  {
   "cell_type": "markdown",
   "metadata": {},
   "source": [
    "# Class - 15"
   ]
  },
  {
   "cell_type": "code",
   "execution_count": 3,
   "metadata": {},
   "outputs": [
    {
     "name": "stdout",
     "output_type": "stream",
     "text": [
      "[3 5 7]\n",
      "[5 7 9]\n",
      "[3 5 7 5 7 9]\n",
      "[[3]\n",
      " [4]\n",
      " [5]]\n",
      "[[5]\n",
      " [7]\n",
      " [9]]\n",
      "[3 5 7 5 7 9]\n"
     ]
    }
   ],
   "source": [
    "# numpy.hstack() function --- Horizontally stack numpy arrays using numpy.hstack()\n",
    "import numpy as np\n",
    "\n",
    "x = np.array((3,5,7))\n",
    "print(x)\n",
    "y = np.array((5,7,9))\n",
    "print(y)\n",
    "\n",
    "print(np.hstack((x,y)))\n",
    "\n",
    "x1 = np.array([[3],[4],[5]])\n",
    "print(x1)\n",
    "y2 = np.array([[5],[7],[9]])\n",
    "print(y2)\n",
    "\n",
    "print(np.hstack((x,y)))"
   ]
  },
  {
   "cell_type": "code",
   "execution_count": 5,
   "metadata": {},
   "outputs": [
    {
     "name": "stdout",
     "output_type": "stream",
     "text": [
      "[3 5 7]\n",
      "[5 7 9]\n",
      "[[3 5 7]\n",
      " [5 7 9]]\n",
      "[[3]\n",
      " [4]\n",
      " [5]]\n",
      "[[5]\n",
      " [7]\n",
      " [9]]\n",
      "[[3 5 7]\n",
      " [5 7 9]]\n"
     ]
    }
   ],
   "source": [
    "# numpy.vstack() function --- Horizontally stack numpy arrays using numpy.hstack()\n",
    "import numpy as np\n",
    "\n",
    "x = np.array((3,5,7))\n",
    "print(x)\n",
    "y = np.array((5,7,9))\n",
    "print(y)\n",
    "\n",
    "print(np.vstack((x,y)))\n",
    "\n",
    "x1 = np.array([[3],[4],[5]])\n",
    "print(x1)\n",
    "y2 = np.array([[5],[7],[9]])\n",
    "print(y2)\n",
    "\n",
    "print(np.vstack((x,y)))"
   ]
  },
  {
   "cell_type": "code",
   "execution_count": 21,
   "metadata": {},
   "outputs": [
    {
     "name": "stdout",
     "output_type": "stream",
     "text": [
      "4\n"
     ]
    }
   ],
   "source": [
    "# generate random integer from 0 to 9\n",
    "random_number = np.random.randint(0,10)\n",
    "print(random_number)"
   ]
  },
  {
   "cell_type": "code",
   "execution_count": 22,
   "metadata": {},
   "outputs": [
    {
     "name": "stdout",
     "output_type": "stream",
     "text": [
      "6\n"
     ]
    }
   ],
   "source": [
    "from numpy import random\n",
    "random_number = random.randint(0,10)\n",
    "print(random_number)\n"
   ]
  },
  {
   "cell_type": "code",
   "execution_count": 23,
   "metadata": {},
   "outputs": [
    {
     "name": "stdout",
     "output_type": "stream",
     "text": [
      "0.6033411809912075\n"
     ]
    }
   ],
   "source": [
    "# generate random float-point number between 0 and 1\n",
    "random_number = np.random.rand()\n",
    "print(random_number)"
   ]
  },
  {
   "cell_type": "code",
   "execution_count": 24,
   "metadata": {},
   "outputs": [
    {
     "name": "stdout",
     "output_type": "stream",
     "text": [
      "[1 6 0 4 2]\n"
     ]
    }
   ],
   "source": [
    "interger_array = np.random.randint(0,10,5)\n",
    "print(interger_array)"
   ]
  },
  {
   "cell_type": "code",
   "execution_count": 25,
   "metadata": {},
   "outputs": [
    {
     "name": "stdout",
     "output_type": "stream",
     "text": [
      "[0.16495054 0.71777409 0.89537866 0.02465744]\n"
     ]
    }
   ],
   "source": [
    "float_array = np.random.rand(4)\n",
    "print(float_array)"
   ]
  },
  {
   "cell_type": "code",
   "execution_count": 27,
   "metadata": {},
   "outputs": [
    {
     "name": "stdout",
     "output_type": "stream",
     "text": [
      "\n",
      " 2D Random Integer Array:\n",
      " [[5 3 9 3]\n",
      " [7 2 5 7]\n",
      " [1 0 1 6]]\n"
     ]
    }
   ],
   "source": [
    "result = np.random.randint(0,10,(3,4))\n",
    "print(\"\\n 2D Random Integer Array:\\n\",result)"
   ]
  },
  {
   "cell_type": "code",
   "execution_count": 28,
   "metadata": {},
   "outputs": [
    {
     "name": "stdout",
     "output_type": "stream",
     "text": [
      "5\n"
     ]
    }
   ],
   "source": [
    "array1 = np.array([1,2,3,4,5])\n",
    "random_choice = np.random.choice(array1)\n",
    "print(random_choice)"
   ]
  },
  {
   "cell_type": "code",
   "execution_count": 30,
   "metadata": {},
   "outputs": [
    {
     "name": "stdout",
     "output_type": "stream",
     "text": [
      "[[0.56512934 0.92779461 0.85597734 0.84075068]\n",
      " [0.52682465 0.00644007 0.45099911 0.29155414]\n",
      " [0.04693347 0.44415454 0.87722115 0.77297341]]\n"
     ]
    },
    {
     "data": {
      "text/plain": [
       "0.5505627090620762"
      ]
     },
     "execution_count": 30,
     "metadata": {},
     "output_type": "execute_result"
    }
   ],
   "source": [
    "x = np.random.rand(3,4)\n",
    "print(x)\n",
    "x.mean()"
   ]
  },
  {
   "cell_type": "code",
   "execution_count": 32,
   "metadata": {},
   "outputs": [
    {
     "name": "stdout",
     "output_type": "stream",
     "text": [
      "[[276 137]\n",
      " [277 232]\n",
      " [117 294]\n",
      " [187 255]\n",
      " [160 298]\n",
      " [196 294]\n",
      " [183 272]\n",
      " [280 280]\n",
      " [142 147]\n",
      " [186 155]]\n"
     ]
    }
   ],
   "source": [
    "x = np.random.randint(100,300,20).reshape(10,2)\n",
    "print(x)"
   ]
  },
  {
   "cell_type": "code",
   "execution_count": 33,
   "metadata": {},
   "outputs": [
    {
     "name": "stdout",
     "output_type": "stream",
     "text": [
      "[[38 42 72]\n",
      " [50 17 50]\n",
      " [39 80 71]]\n"
     ]
    }
   ],
   "source": [
    "y = np.random.randint(1,100,(3,3))\n",
    "print(y)"
   ]
  },
  {
   "cell_type": "code",
   "execution_count": 34,
   "metadata": {},
   "outputs": [
    {
     "data": {
      "text/plain": [
       "<function RandomState.randint>"
      ]
     },
     "execution_count": 34,
     "metadata": {},
     "output_type": "execute_result"
    }
   ],
   "source": [
    "np.random.randint"
   ]
  },
  {
   "cell_type": "code",
   "execution_count": 38,
   "metadata": {},
   "outputs": [
    {
     "data": {
      "text/plain": [
       "array([[ 5, 63, 91, 16, 62, 24],\n",
       "       [45, 51,  9, 29,  5, 90],\n",
       "       [32, 70,  2, 40,  4, 89],\n",
       "       [56,  4, 85, 46,  4,  2],\n",
       "       [23, 32, 49, 48, 74, 17]])"
      ]
     },
     "execution_count": 38,
     "metadata": {},
     "output_type": "execute_result"
    }
   ],
   "source": [
    "from numpy.random import randint as ri\n",
    "\n",
    "np.random.seed(25)\n",
    "ri(1,100,(5,6))\n",
    "\n",
    "\n"
   ]
  },
  {
   "cell_type": "code",
   "execution_count": 40,
   "metadata": {},
   "outputs": [
    {
     "data": {
      "text/plain": [
       "array([[ 9, 25, 68, 88, 80],\n",
       "       [49, 11, 95, 53, 99],\n",
       "       [54, 67, 99, 15, 35],\n",
       "       [25, 16, 61, 59, 17],\n",
       "       [10, 94, 87,  3, 28],\n",
       "       [ 5, 32,  2, 14, 84]])"
      ]
     },
     "execution_count": 40,
     "metadata": {},
     "output_type": "execute_result"
    }
   ],
   "source": [
    "np.random.seed(100)\n",
    "M = ri(1,100,(5,6)).reshape(6,5)\n",
    "M"
   ]
  },
  {
   "cell_type": "code",
   "execution_count": 42,
   "metadata": {},
   "outputs": [
    {
     "data": {
      "text/plain": [
       "array([[ 9, 25, 68, 80, 88],\n",
       "       [11, 49, 53, 95, 99],\n",
       "       [15, 35, 54, 67, 99],\n",
       "       [16, 17, 25, 59, 61],\n",
       "       [ 3, 10, 28, 87, 94],\n",
       "       [ 2,  5, 14, 32, 84]])"
      ]
     },
     "execution_count": 42,
     "metadata": {},
     "output_type": "execute_result"
    }
   ],
   "source": [
    "np.sort(M)"
   ]
  },
  {
   "cell_type": "code",
   "execution_count": 44,
   "metadata": {},
   "outputs": [
    {
     "data": {
      "text/plain": [
       "array([[ 9, 25, 68, 80, 88],\n",
       "       [11, 49, 53, 95, 99],\n",
       "       [15, 35, 54, 67, 99],\n",
       "       [16, 17, 25, 59, 61],\n",
       "       [ 3, 10, 28, 87, 94],\n",
       "       [ 2,  5, 14, 32, 84]])"
      ]
     },
     "execution_count": 44,
     "metadata": {},
     "output_type": "execute_result"
    }
   ],
   "source": [
    "np.sort(M,axis=1)"
   ]
  },
  {
   "cell_type": "code",
   "execution_count": 49,
   "metadata": {},
   "outputs": [
    {
     "data": {
      "text/plain": [
       "array([[22, 26, 55,  7, 38],\n",
       "       [59, 40, 95, 52, 31],\n",
       "       [67, 25, 56, 18, 46],\n",
       "       [90, 46, 36, 17, 13],\n",
       "       [87, 83, 68, 93, 96],\n",
       "       [21, 11,  9, 90, 73]])"
      ]
     },
     "execution_count": 49,
     "metadata": {},
     "output_type": "execute_result"
    }
   ],
   "source": [
    "a = ri(1,100,(6,5))\n",
    "b = a.reshape(10,3)\n",
    "a"
   ]
  },
  {
   "cell_type": "code",
   "execution_count": 58,
   "metadata": {},
   "outputs": [
    {
     "data": {
      "text/plain": [
       "array([[22, 26, 55],\n",
       "       [ 7, 38, 59],\n",
       "       [40, 95, 52],\n",
       "       [31, 67, 25],\n",
       "       [56, 18, 46],\n",
       "       [90, 46, 36],\n",
       "       [17, 13, 87],\n",
       "       [83, 68, 93],\n",
       "       [96, 21, 11],\n",
       "       [ 9, 90, 73]])"
      ]
     },
     "execution_count": 58,
     "metadata": {},
     "output_type": "execute_result"
    }
   ],
   "source": [
    "b"
   ]
  },
  {
   "cell_type": "code",
   "execution_count": 51,
   "metadata": {},
   "outputs": [
    {
     "data": {
      "text/plain": [
       "96"
      ]
     },
     "execution_count": 51,
     "metadata": {},
     "output_type": "execute_result"
    }
   ],
   "source": [
    "a.max()"
   ]
  },
  {
   "cell_type": "code",
   "execution_count": 52,
   "metadata": {},
   "outputs": [
    {
     "data": {
      "text/plain": [
       "7"
      ]
     },
     "execution_count": 52,
     "metadata": {},
     "output_type": "execute_result"
    }
   ],
   "source": [
    "a.min()"
   ]
  },
  {
   "cell_type": "code",
   "execution_count": 53,
   "metadata": {},
   "outputs": [
    {
     "data": {
      "text/plain": [
       "24"
      ]
     },
     "execution_count": 53,
     "metadata": {},
     "output_type": "execute_result"
    }
   ],
   "source": [
    "a.argmax()"
   ]
  },
  {
   "cell_type": "code",
   "execution_count": 54,
   "metadata": {},
   "outputs": [
    {
     "data": {
      "text/plain": [
       "96"
      ]
     },
     "execution_count": 54,
     "metadata": {},
     "output_type": "execute_result"
    }
   ],
   "source": [
    "b.max()"
   ]
  },
  {
   "cell_type": "code",
   "execution_count": 55,
   "metadata": {},
   "outputs": [
    {
     "data": {
      "text/plain": [
       "7"
      ]
     },
     "execution_count": 55,
     "metadata": {},
     "output_type": "execute_result"
    }
   ],
   "source": [
    "b.min()"
   ]
  },
  {
   "cell_type": "code",
   "execution_count": 57,
   "metadata": {},
   "outputs": [
    {
     "data": {
      "text/plain": [
       "array([96, 95, 93])"
      ]
     },
     "execution_count": 57,
     "metadata": {},
     "output_type": "execute_result"
    }
   ],
   "source": [
    "b.max(axis=0)# row-wise maximum"
   ]
  },
  {
   "cell_type": "code",
   "execution_count": 59,
   "metadata": {},
   "outputs": [
    {
     "data": {
      "text/plain": [
       "array([55, 59, 95, 67, 56, 90, 87, 93, 96, 90])"
      ]
     },
     "execution_count": 59,
     "metadata": {},
     "output_type": "execute_result"
    }
   ],
   "source": [
    "b.max(axis=1)# column-wise maximum"
   ]
  },
  {
   "cell_type": "code",
   "execution_count": 60,
   "metadata": {},
   "outputs": [
    {
     "data": {
      "text/plain": [
       "array([2, 2, 1, 1, 0, 0, 2, 2, 0, 1], dtype=int64)"
      ]
     },
     "execution_count": 60,
     "metadata": {},
     "output_type": "execute_result"
    }
   ],
   "source": [
    "b.argmax(axis=1)"
   ]
  },
  {
   "cell_type": "code",
   "execution_count": 61,
   "metadata": {},
   "outputs": [
    {
     "name": "stdout",
     "output_type": "stream",
     "text": [
      "[[ 1  2  3  4  5]\n",
      " [12 34  4  5  6]\n",
      " [65 76  7  8  9]\n",
      " [ 1  3 44 55  5]\n",
      " [ 7 56  4  6 66]]\n"
     ]
    }
   ],
   "source": [
    "x = np.array([[1,2,3,4,5],[12,34,4,5,6],[65,76,7,8,9],[1,3,44,55,5],[7,56,4,6,66]])\n",
    "print(x)"
   ]
  },
  {
   "cell_type": "code",
   "execution_count": 62,
   "metadata": {},
   "outputs": [
    {
     "data": {
      "text/plain": [
       "array([[34,  4],\n",
       "       [76,  7]])"
      ]
     },
     "execution_count": 62,
     "metadata": {},
     "output_type": "execute_result"
    }
   ],
   "source": [
    "x[1:3,1:3]"
   ]
  },
  {
   "cell_type": "code",
   "execution_count": 65,
   "metadata": {},
   "outputs": [
    {
     "data": {
      "text/plain": [
       "array([[ 4,  5],\n",
       "       [ 7,  8],\n",
       "       [44, 55]])"
      ]
     },
     "execution_count": 65,
     "metadata": {},
     "output_type": "execute_result"
    }
   ],
   "source": [
    "x[1:4,2:4]"
   ]
  },
  {
   "cell_type": "code",
   "execution_count": null,
   "metadata": {},
   "outputs": [],
   "source": [
    "a = np.arange(1,21)\n",
    "print(a)\n",
    "\n",
    "a>10"
   ]
  },
  {
   "cell_type": "code",
   "execution_count": 67,
   "metadata": {},
   "outputs": [
    {
     "data": {
      "text/plain": [
       "array([[ True,  True,  True, False,  True],\n",
       "       [ True,  True,  True,  True,  True],\n",
       "       [ True,  True,  True,  True,  True],\n",
       "       [ True,  True,  True,  True,  True],\n",
       "       [ True,  True,  True,  True,  True],\n",
       "       [ True,  True, False,  True,  True]])"
      ]
     },
     "execution_count": 67,
     "metadata": {},
     "output_type": "execute_result"
    }
   ],
   "source": [
    "a>10"
   ]
  },
  {
   "cell_type": "code",
   "execution_count": 66,
   "metadata": {},
   "outputs": [
    {
     "data": {
      "text/plain": [
       "array([22, 26, 55, 38, 59, 40, 95, 52, 31, 67, 25, 56, 18, 46, 90, 46, 36,\n",
       "       17, 13, 87, 83, 68, 93, 96, 21, 11, 90, 73])"
      ]
     },
     "execution_count": 66,
     "metadata": {},
     "output_type": "execute_result"
    }
   ],
   "source": [
    "a[a>10]"
   ]
  },
  {
   "cell_type": "code",
   "execution_count": 68,
   "metadata": {},
   "outputs": [
    {
     "data": {
      "text/plain": [
       "array([7, 9])"
      ]
     },
     "execution_count": 68,
     "metadata": {},
     "output_type": "execute_result"
    }
   ],
   "source": [
    "a[a < 10]"
   ]
  },
  {
   "cell_type": "code",
   "execution_count": 69,
   "metadata": {},
   "outputs": [
    {
     "data": {
      "text/plain": [
       "array([22, 26, 38, 40, 52, 56, 18, 46, 90, 46, 36, 68, 96, 90])"
      ]
     },
     "execution_count": 69,
     "metadata": {},
     "output_type": "execute_result"
    }
   ],
   "source": [
    "a[a%2 == 0]"
   ]
  },
  {
   "cell_type": "code",
   "execution_count": 70,
   "metadata": {},
   "outputs": [
    {
     "data": {
      "text/plain": [
       "array([55,  7, 59, 95, 31, 67, 25, 17, 13, 87, 83, 93, 21, 11,  9, 73])"
      ]
     },
     "execution_count": 70,
     "metadata": {},
     "output_type": "execute_result"
    }
   ],
   "source": [
    "a[a%2 !=0]"
   ]
  },
  {
   "cell_type": "code",
   "execution_count": 71,
   "metadata": {},
   "outputs": [
    {
     "data": {
      "text/plain": [
       "array([], dtype=int32)"
      ]
     },
     "execution_count": 71,
     "metadata": {},
     "output_type": "execute_result"
    }
   ],
   "source": [
    "a[a==5]"
   ]
  },
  {
   "cell_type": "code",
   "execution_count": 73,
   "metadata": {},
   "outputs": [
    {
     "data": {
      "text/plain": [
       "array([[22, 26,  0,  0, 38],\n",
       "       [ 0, 40,  0, 52,  0],\n",
       "       [ 0,  0, 56, 18, 46],\n",
       "       [90, 46, 36,  0,  0],\n",
       "       [ 0,  0, 68,  0, 96],\n",
       "       [ 0,  0,  0, 90,  0]])"
      ]
     },
     "execution_count": 73,
     "metadata": {},
     "output_type": "execute_result"
    }
   ],
   "source": [
    "a[a%2!= 0] = 0\n",
    "a"
   ]
  },
  {
   "cell_type": "code",
   "execution_count": 85,
   "metadata": {},
   "outputs": [
    {
     "name": "stdout",
     "output_type": "stream",
     "text": [
      "[1 2 3 4 2 5]\n"
     ]
    }
   ],
   "source": [
    "a = np.array((1,2,3,4,2,5))\n",
    "print(a)\n"
   ]
  },
  {
   "cell_type": "code",
   "execution_count": 86,
   "metadata": {},
   "outputs": [
    {
     "data": {
      "text/plain": [
       "1"
      ]
     },
     "execution_count": 86,
     "metadata": {},
     "output_type": "execute_result"
    }
   ],
   "source": [
    "a.ndim"
   ]
  },
  {
   "cell_type": "code",
   "execution_count": 87,
   "metadata": {},
   "outputs": [
    {
     "data": {
      "text/plain": [
       "(6,)"
      ]
     },
     "execution_count": 87,
     "metadata": {},
     "output_type": "execute_result"
    }
   ],
   "source": [
    "a.shape"
   ]
  },
  {
   "cell_type": "code",
   "execution_count": 88,
   "metadata": {},
   "outputs": [
    {
     "data": {
      "text/plain": [
       "(array([1, 4], dtype=int64),)"
      ]
     },
     "execution_count": 88,
     "metadata": {},
     "output_type": "execute_result"
    }
   ],
   "source": [
    "x = np.where(a==2)\n",
    "x"
   ]
  },
  {
   "cell_type": "code",
   "execution_count": 89,
   "metadata": {},
   "outputs": [
    {
     "data": {
      "text/plain": [
       "(array([0, 1, 2, 4], dtype=int64),)"
      ]
     },
     "execution_count": 89,
     "metadata": {},
     "output_type": "execute_result"
    }
   ],
   "source": [
    "np.where(a<4)"
   ]
  },
  {
   "cell_type": "code",
   "execution_count": 93,
   "metadata": {},
   "outputs": [
    {
     "data": {
      "text/plain": [
       "array([ 1,  2,  3,  4,  5,  6, 10, 12, 15])"
      ]
     },
     "execution_count": 93,
     "metadata": {},
     "output_type": "execute_result"
    }
   ],
   "source": [
    "x = np.array([1,2,3,4,5,6,10,12,15])\n",
    "np.searchsorted(x,8)\n",
    "x"
   ]
  },
  {
   "cell_type": "code",
   "execution_count": null,
   "metadata": {},
   "outputs": [],
   "source": []
  },
  {
   "cell_type": "code",
   "execution_count": null,
   "metadata": {},
   "outputs": [],
   "source": []
  },
  {
   "cell_type": "code",
   "execution_count": null,
   "metadata": {},
   "outputs": [],
   "source": []
  },
  {
   "cell_type": "code",
   "execution_count": null,
   "metadata": {},
   "outputs": [],
   "source": []
  },
  {
   "cell_type": "code",
   "execution_count": null,
   "metadata": {},
   "outputs": [],
   "source": []
  },
  {
   "cell_type": "code",
   "execution_count": null,
   "metadata": {},
   "outputs": [],
   "source": []
  },
  {
   "cell_type": "code",
   "execution_count": null,
   "metadata": {},
   "outputs": [],
   "source": []
  }
 ],
 "metadata": {
  "kernelspec": {
   "display_name": "Python 3",
   "language": "python",
   "name": "python3"
  },
  "language_info": {
   "codemirror_mode": {
    "name": "ipython",
    "version": 3
   },
   "file_extension": ".py",
   "mimetype": "text/x-python",
   "name": "python",
   "nbconvert_exporter": "python",
   "pygments_lexer": "ipython3",
   "version": "3.12.3"
  }
 },
 "nbformat": 4,
 "nbformat_minor": 2
}
